{
 "cells": [
  {
   "attachments": {},
   "cell_type": "markdown",
   "metadata": {},
   "source": [
    "Author: Daniel Lusk, University of Potsdam\n",
    "\n",
    "Inspired by: Ankit Kariryaa ([github repo](https://github.com/ankitkariryaa/An-unexpectedly-large-count-of-trees-in-the-western-Sahara-and-Sahel))"
   ]
  },
  {
   "cell_type": "code",
   "execution_count": 2,
   "metadata": {},
   "outputs": [],
   "source": [
    "import glob\n",
    "import os\n",
    "import warnings\n",
    "import numpy as np\n",
    "import rasterio as rio\n",
    "from config import UNetTraining\n",
    "from core.frame_info import FrameInfo\n",
    "\n",
    "warnings.filterwarnings(\"ignore\")  # ignore annoying warnings\n",
    "\n",
    "# Magic commands\n",
    "%matplotlib inline\n",
    "%reload_ext autoreload\n",
    "%autoreload 2\n",
    "\n",
    "from IPython.core.interactiveshell import InteractiveShell\n",
    "InteractiveShell.ast_node_interactivity = \"all\""
   ]
  },
  {
   "attachments": {},
   "cell_type": "markdown",
   "metadata": {},
   "source": [
    "Load the configuration and get the image directories."
   ]
  },
  {
   "cell_type": "code",
   "execution_count": 3,
   "metadata": {},
   "outputs": [],
   "source": [
    "config = UNetTraining.Config()\n",
    "im_dirs = glob.glob(os.path.join(config.image_dir, \"*\"))"
   ]
  },
  {
   "attachments": {},
   "cell_type": "markdown",
   "metadata": {},
   "source": [
    "Read all images (aka frames) into memory"
   ]
  },
  {
   "cell_type": "code",
   "execution_count": 9,
   "metadata": {},
   "outputs": [],
   "source": [
    "frames = []\n",
    "\n",
    "for d in im_dirs:\n",
    "    rgbi_im = rio.open(glob.glob(os.path.join(d, config.rgbi_dir_name, \"*.tif\"))[0])\n",
    "    ndvi_im = rio.open(glob.glob(os.path.join(d, config.ndvi_dir_name, \"*.tif\"))[0])\n",
    "    label_im = rio.open(glob.glob(os.path.join(d, config.label_dir_name, \"*.tif\"))[0])\n",
    "    weights_im = rio.open(glob.glob(os.path.join(d, config.weights_dir_name, \"*.tif\"))[0])\n",
    "    \n",
    "    read_rgbi_im = np.moveaxis(rgbi_im.read(), 0, -1)\n",
    "    read_ndvi_im = np.moveaxis(ndvi_im.read(), 0, -1)\n",
    "    read_label_im = np.moveaxis(label_im.read(), 0, -1)\n",
    "    read_weights_im = np.moveaxis(weights_im.read(), 0, -1)\n",
    "    \n",
    "    \n",
    "    comb_im = np.dstack((read_rgbi_im, read_ndvi_im))\n",
    "    f = FrameInfo(comb_im, read_label_im, read_weights_im)\n",
    "    frames.append(f)"
   ]
  },
  {
   "cell_type": "markdown",
   "metadata": {},
   "source": []
  }
 ],
 "metadata": {
  "kernelspec": {
   "display_name": "rsiv",
   "language": "python",
   "name": "python3"
  },
  "language_info": {
   "codemirror_mode": {
    "name": "ipython",
    "version": 3
   },
   "file_extension": ".py",
   "mimetype": "text/x-python",
   "name": "python",
   "nbconvert_exporter": "python",
   "pygments_lexer": "ipython3",
   "version": "3.9.13"
  },
  "orig_nbformat": 4,
  "vscode": {
   "interpreter": {
    "hash": "71e688b954d902b4a55caabd51fbe36bd50a20d472e1a85360af90ed004984c7"
   }
  }
 },
 "nbformat": 4,
 "nbformat_minor": 2
}
