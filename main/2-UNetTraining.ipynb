{
 "cells": [
  {
   "attachments": {},
   "cell_type": "markdown",
   "metadata": {},
   "source": [
    "Author: Daniel Lusk, University of Potsdam\n",
    "\n",
    "Inspired by: Ankit Kariryaa ([github repo](https://github.com/ankitkariryaa/An-unexpectedly-large-count-of-trees-in-the-western-Sahara-and-Sahel))"
   ]
  },
  {
   "cell_type": "code",
   "execution_count": 167,
   "metadata": {},
   "outputs": [],
   "source": [
    "import glob\n",
    "import os\n",
    "import warnings\n",
    "import matplotlib.pyplot as plt\n",
    "import numpy as np\n",
    "import rasterio as rio\n",
    "from config import UNetTraining\n",
    "from core.dataset_generator import DataGenerator\n",
    "from core.frame_info import FrameInfo\n",
    "from core.split_frames import split_dataset\n",
    "from tqdm import tqdm_notebook as tqdm\n",
    "\n",
    "warnings.filterwarnings(\"ignore\")  # ignore annoying warnings\n",
    "\n",
    "# Magic commands\n",
    "%matplotlib inline\n",
    "%reload_ext autoreload\n",
    "%autoreload 2\n",
    "\n",
    "from IPython.core.interactiveshell import InteractiveShell\n",
    "InteractiveShell.ast_node_interactivity = \"all\""
   ]
  },
  {
   "attachments": {},
   "cell_type": "markdown",
   "metadata": {},
   "source": [
    "Load the configuration and get the image directories."
   ]
  },
  {
   "cell_type": "code",
   "execution_count": 169,
   "metadata": {},
   "outputs": [],
   "source": [
    "config = UNetTraining.Config()\n",
    "im_dirs = glob.glob(os.path.join(config.image_dir, \"*\"))"
   ]
  },
  {
   "attachments": {},
   "cell_type": "markdown",
   "metadata": {},
   "source": [
    "Read all images (aka frames) into memory"
   ]
  },
  {
   "cell_type": "code",
   "execution_count": 132,
   "metadata": {},
   "outputs": [
    {
     "data": {
      "application/vnd.jupyter.widget-view+json": {
       "model_id": "7d62bb0f547645a3b9aaf85a32a78d96",
       "version_major": 2,
       "version_minor": 0
      },
      "text/plain": [
       "  0%|          | 0/360 [00:00<?, ?it/s]"
      ]
     },
     "metadata": {},
     "output_type": "display_data"
    }
   ],
   "source": [
    "frames = []\n",
    "\n",
    "for d in tqdm(im_dirs):\n",
    "    rgbi_im = rio.open(glob.glob(os.path.join(d, config.rgbi_dn, \"*.tif\"))[0])\n",
    "    ndvi_im = rio.open(glob.glob(os.path.join(d, config.ndvi_dn, \"*.tif\"))[0])\n",
    "    label_im = rio.open(glob.glob(os.path.join(d, config.label_dn, \"*.tif\"))[0])\n",
    "    weights_im = rio.open(glob.glob(os.path.join(d, config.weights_dn, \"*.tif\"))[0])\n",
    "    \n",
    "    read_rgbi_im = (np.moveaxis(rgbi_im.read(), 0, -1)) / 255  # Scale to 0-1\n",
    "    read_ndvi_im = (np.moveaxis(ndvi_im.read(), 0, -1) + 1) / 2  # Scale to 0-1\n",
    "    read_label_im = np.moveaxis(label_im.read(), 0, -1)\n",
    "    read_weights_im = np.moveaxis(weights_im.read(), 0, -1)\n",
    "    \n",
    "    if config.use_binary_labels:\n",
    "        read_label_im[read_label_im > 0] = 1 # Binarize labels\n",
    "    \n",
    "    comb_im = np.dstack((read_rgbi_im, read_ndvi_im))\n",
    "    f = FrameInfo(comb_im, read_label_im, read_weights_im, d)\n",
    "    frames.append(f)"
   ]
  },
  {
   "attachments": {},
   "cell_type": "markdown",
   "metadata": {},
   "source": [
    "Split into train, validation, and test sets, and init generators."
   ]
  },
  {
   "cell_type": "code",
   "execution_count": 170,
   "metadata": {},
   "outputs": [
    {
     "name": "stdout",
     "output_type": "stream",
     "text": [
      "Reading train-test split from file...\n",
      "Training set size: 230\n",
      "Validation set size: 58\n",
      "Testing set size: 72\n"
     ]
    }
   ],
   "source": [
    "train_frame_idx, val_frame_idx, test_frame_idx = split_dataset(\n",
    "    frames, config.frames_json, config.patch_dir\n",
    ")\n",
    "\n",
    "# Sanity check for set sizes\n",
    "print(\"Training set size:\", len(train_frame_idx))\n",
    "print(\"Validation set size:\", len(val_frame_idx))\n",
    "print(\"Testing set size:\", len(test_frame_idx))\n",
    "\n",
    "annotation_channels = config.input_label_channel + config.input_weight_channel\n",
    "\n",
    "# Training data generator\n",
    "# Don't apply augmentation for now until the weighting scheme overwriting is figured out.\n",
    "train_generator = DataGenerator(\n",
    "    config.input_image_channels,\n",
    "    config.patch_size,\n",
    "    train_frame_idx,\n",
    "    frames,\n",
    "    annotation_channels,\n",
    ").random_generator(config.BATCH_SIZE)\n",
    "\n",
    "# Validation data generator\n",
    "val_generator = DataGenerator(\n",
    "    config.input_image_channels,\n",
    "    config.patch_size,\n",
    "    val_frame_idx,\n",
    "    frames,\n",
    "    annotation_channels\n",
    ").random_generator(config.BATCH_SIZE)\n",
    "\n",
    "# Testing data generator\n",
    "test_generator = DataGenerator(\n",
    "    config.input_image_channels,\n",
    "    config.patch_size,\n",
    "    test_frame_idx,\n",
    "    frames,\n",
    "    annotation_channels\n",
    ").random_generator(config.BATCH_SIZE)"
   ]
  },
  {
   "attachments": {},
   "cell_type": "markdown",
   "metadata": {},
   "source": [
    "Inspect the images to ensure their labels and weights correspond accurately"
   ]
  },
  {
   "cell_type": "code",
   "execution_count": null,
   "metadata": {},
   "outputs": [],
   "source": [
    "for _ in range(1):\n",
    "    train_images, real_label = next(train_generator)\n",
    "    ann = real_label[:,:,:,0]\n",
    "    wei = real_label[:,:,:,1]\n",
    "    #overlay of annotation with boundary to check the accuracy\n",
    "    #5 images in each row are: pan, ndvi, annotation, weight(boundary), overlay of annotation with weight\n",
    "    overlay = ann + wei\n",
    "    overlay = overlay[:,:,:,np.newaxis]\n",
    "    display_images(np.concatenate((train_images,real_label, overlay), axis = -1))"
   ]
  }
 ],
 "metadata": {
  "kernelspec": {
   "display_name": "rsiv",
   "language": "python",
   "name": "python3"
  },
  "language_info": {
   "codemirror_mode": {
    "name": "ipython",
    "version": 3
   },
   "file_extension": ".py",
   "mimetype": "text/x-python",
   "name": "python",
   "nbconvert_exporter": "python",
   "pygments_lexer": "ipython3",
   "version": "3.9.13"
  },
  "orig_nbformat": 4,
  "vscode": {
   "interpreter": {
    "hash": "71e688b954d902b4a55caabd51fbe36bd50a20d472e1a85360af90ed004984c7"
   }
  }
 },
 "nbformat": 4,
 "nbformat_minor": 2
}
